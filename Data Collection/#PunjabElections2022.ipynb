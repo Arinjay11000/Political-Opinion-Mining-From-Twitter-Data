{
  "nbformat": 4,
  "nbformat_minor": 0,
  "metadata": {
    "colab": {
      "name": "Punjab election tweet analysis.ipynb",
      "provenance": [],
      "authorship_tag": "ABX9TyM03DgfJ3qFincqyUmWs/sI",
      "include_colab_link": true
    },
    "kernelspec": {
      "name": "python3",
      "display_name": "Python 3"
    },
    "language_info": {
      "name": "python"
    }
  },
  "cells": [
    {
      "cell_type": "markdown",
      "metadata": {
        "id": "view-in-github",
        "colab_type": "text"
      },
      "source": [
        "<a href=\"https://colab.research.google.com/github/Arinjay11000/Political-Opinion-Mining-From-Twitter-Data/blob/main/Data%20Collection/%23PunjabElections2022.ipynb\" target=\"_parent\"><img src=\"https://colab.research.google.com/assets/colab-badge.svg\" alt=\"Open In Colab\"/></a>"
      ]
    },
    {
      "cell_type": "code",
      "execution_count": null,
      "metadata": {
        "colab": {
          "base_uri": "https://localhost:8080/"
        },
        "id": "1ZTfob_lr9fI",
        "outputId": "db455f29-403a-4121-9bfc-735edc2896b1"
      },
      "outputs": [
        {
          "output_type": "stream",
          "name": "stdout",
          "text": [
            "Collecting git+https://github.com/JustAnotherArchivist/snscrape.git\n",
            "  Cloning https://github.com/JustAnotherArchivist/snscrape.git to /tmp/pip-req-build-lyqnt15v\n",
            "  Running command git clone -q https://github.com/JustAnotherArchivist/snscrape.git /tmp/pip-req-build-lyqnt15v\n",
            "Requirement already satisfied: requests[socks] in /usr/local/lib/python3.7/dist-packages (from snscrape==0.4.3.20220107.dev45+ged3ea94) (2.23.0)\n",
            "Requirement already satisfied: lxml in /usr/local/lib/python3.7/dist-packages (from snscrape==0.4.3.20220107.dev45+ged3ea94) (4.2.6)\n",
            "Requirement already satisfied: beautifulsoup4 in /usr/local/lib/python3.7/dist-packages (from snscrape==0.4.3.20220107.dev45+ged3ea94) (4.6.3)\n",
            "Requirement already satisfied: filelock in /usr/local/lib/python3.7/dist-packages (from snscrape==0.4.3.20220107.dev45+ged3ea94) (3.6.0)\n",
            "Requirement already satisfied: pytz in /usr/local/lib/python3.7/dist-packages (from snscrape==0.4.3.20220107.dev45+ged3ea94) (2022.1)\n",
            "\u001b[31mERROR: Package 'snscrape' requires a different Python: 3.7.13 not in '~=3.8'\u001b[0m\n"
          ]
        }
      ],
      "source": [
        "!pip3 install git+https://github.com/JustAnotherArchivist/snscrape.git"
      ]
    },
    {
      "cell_type": "code",
      "source": [
        "import os\n",
        "import pandas as pd\n",
        "from datetime import date"
      ],
      "metadata": {
        "id": "TAd9LLffsuff"
      },
      "execution_count": null,
      "outputs": []
    },
    {
      "cell_type": "code",
      "source": [
        "import snscrape.modules.twitter as sntwitter\n",
        "import pandas\n",
        "\n",
        "# Creating list to append tweet data to\n",
        "tweets_list2 = []\n",
        "\n",
        "# Using TwitterSearchScraper to scrape data and append tweets to list\n",
        "for i,tweet in enumerate(sntwitter.TwitterSearchScraper('#PunjabElections2022 since:2021-11-01 until:2022-03-10').get_items()):\n",
        "    tweets_list2.append([tweet.date, tweet.id, tweet.content,tweet.username])\n",
        "    \n",
        "# Creating a dataframe from the tweets list above\n",
        "tweets_df2 = pd.DataFrame(tweets_list2, columns=['Datetime', 'Tweet Id', 'Text', 'Username'])"
      ],
      "metadata": {
        "id": "vqXn-eWcs1iJ"
      },
      "execution_count": null,
      "outputs": []
    },
    {
      "cell_type": "code",
      "source": [
        "tweets_df2.head()"
      ],
      "metadata": {
        "colab": {
          "base_uri": "https://localhost:8080/",
          "height": 206
        },
        "id": "n_pjnqT5uTgv",
        "outputId": "eea917bb-9ef4-4224-e6e3-d06758b2d952"
      },
      "execution_count": null,
      "outputs": [
        {
          "output_type": "execute_result",
          "data": {
            "text/plain": [
              "                   Datetime             Tweet Id  \\\n",
              "0 2022-03-09 23:57:16+00:00  1501708732442746880   \n",
              "1 2022-03-09 23:56:58+00:00  1501708655527591936   \n",
              "2 2022-03-09 23:38:52+00:00  1501704098907041792   \n",
              "3 2022-03-09 23:35:19+00:00  1501703205666709507   \n",
              "4 2022-03-09 23:32:13+00:00  1501702426017280000   \n",
              "\n",
              "                                                Text       Username  \n",
              "0  @priyankagandhi मेडम वो EVM वाले ट्वीट कितने ब...     nj_nishant  \n",
              "1  #ElectionResults मतमोजणीचं काऊंटडाऊन सुरू! मतद...     abpmajhatv  \n",
              "2  कुछ घंटों में 5 राज्यों की सियासत और सियासतदान...  JeetBhatiNews  \n",
              "3  Today bjp is losing election in 5 states.\\n#Go...   saifuddin_06  \n",
              "4  ਬਹਿੰਦੇ ਜੜ੍ਹਾਂ ਚ’ ਜਾਂ ਦਿਲਾਂ ਵਿੱਚ ਵੜਕੇ ਕੁੜੇ 💪💪\\n...       SamreOYE  "
            ],
            "text/html": [
              "\n",
              "  <div id=\"df-651b8bf0-d52e-4b10-9674-2ad988851aa2\">\n",
              "    <div class=\"colab-df-container\">\n",
              "      <div>\n",
              "<style scoped>\n",
              "    .dataframe tbody tr th:only-of-type {\n",
              "        vertical-align: middle;\n",
              "    }\n",
              "\n",
              "    .dataframe tbody tr th {\n",
              "        vertical-align: top;\n",
              "    }\n",
              "\n",
              "    .dataframe thead th {\n",
              "        text-align: right;\n",
              "    }\n",
              "</style>\n",
              "<table border=\"1\" class=\"dataframe\">\n",
              "  <thead>\n",
              "    <tr style=\"text-align: right;\">\n",
              "      <th></th>\n",
              "      <th>Datetime</th>\n",
              "      <th>Tweet Id</th>\n",
              "      <th>Text</th>\n",
              "      <th>Username</th>\n",
              "    </tr>\n",
              "  </thead>\n",
              "  <tbody>\n",
              "    <tr>\n",
              "      <th>0</th>\n",
              "      <td>2022-03-09 23:57:16+00:00</td>\n",
              "      <td>1501708732442746880</td>\n",
              "      <td>@priyankagandhi मेडम वो EVM वाले ट्वीट कितने ब...</td>\n",
              "      <td>nj_nishant</td>\n",
              "    </tr>\n",
              "    <tr>\n",
              "      <th>1</th>\n",
              "      <td>2022-03-09 23:56:58+00:00</td>\n",
              "      <td>1501708655527591936</td>\n",
              "      <td>#ElectionResults मतमोजणीचं काऊंटडाऊन सुरू! मतद...</td>\n",
              "      <td>abpmajhatv</td>\n",
              "    </tr>\n",
              "    <tr>\n",
              "      <th>2</th>\n",
              "      <td>2022-03-09 23:38:52+00:00</td>\n",
              "      <td>1501704098907041792</td>\n",
              "      <td>कुछ घंटों में 5 राज्यों की सियासत और सियासतदान...</td>\n",
              "      <td>JeetBhatiNews</td>\n",
              "    </tr>\n",
              "    <tr>\n",
              "      <th>3</th>\n",
              "      <td>2022-03-09 23:35:19+00:00</td>\n",
              "      <td>1501703205666709507</td>\n",
              "      <td>Today bjp is losing election in 5 states.\\n#Go...</td>\n",
              "      <td>saifuddin_06</td>\n",
              "    </tr>\n",
              "    <tr>\n",
              "      <th>4</th>\n",
              "      <td>2022-03-09 23:32:13+00:00</td>\n",
              "      <td>1501702426017280000</td>\n",
              "      <td>ਬਹਿੰਦੇ ਜੜ੍ਹਾਂ ਚ’ ਜਾਂ ਦਿਲਾਂ ਵਿੱਚ ਵੜਕੇ ਕੁੜੇ 💪💪\\n...</td>\n",
              "      <td>SamreOYE</td>\n",
              "    </tr>\n",
              "  </tbody>\n",
              "</table>\n",
              "</div>\n",
              "      <button class=\"colab-df-convert\" onclick=\"convertToInteractive('df-651b8bf0-d52e-4b10-9674-2ad988851aa2')\"\n",
              "              title=\"Convert this dataframe to an interactive table.\"\n",
              "              style=\"display:none;\">\n",
              "        \n",
              "  <svg xmlns=\"http://www.w3.org/2000/svg\" height=\"24px\"viewBox=\"0 0 24 24\"\n",
              "       width=\"24px\">\n",
              "    <path d=\"M0 0h24v24H0V0z\" fill=\"none\"/>\n",
              "    <path d=\"M18.56 5.44l.94 2.06.94-2.06 2.06-.94-2.06-.94-.94-2.06-.94 2.06-2.06.94zm-11 1L8.5 8.5l.94-2.06 2.06-.94-2.06-.94L8.5 2.5l-.94 2.06-2.06.94zm10 10l.94 2.06.94-2.06 2.06-.94-2.06-.94-.94-2.06-.94 2.06-2.06.94z\"/><path d=\"M17.41 7.96l-1.37-1.37c-.4-.4-.92-.59-1.43-.59-.52 0-1.04.2-1.43.59L10.3 9.45l-7.72 7.72c-.78.78-.78 2.05 0 2.83L4 21.41c.39.39.9.59 1.41.59.51 0 1.02-.2 1.41-.59l7.78-7.78 2.81-2.81c.8-.78.8-2.07 0-2.86zM5.41 20L4 18.59l7.72-7.72 1.47 1.35L5.41 20z\"/>\n",
              "  </svg>\n",
              "      </button>\n",
              "      \n",
              "  <style>\n",
              "    .colab-df-container {\n",
              "      display:flex;\n",
              "      flex-wrap:wrap;\n",
              "      gap: 12px;\n",
              "    }\n",
              "\n",
              "    .colab-df-convert {\n",
              "      background-color: #E8F0FE;\n",
              "      border: none;\n",
              "      border-radius: 50%;\n",
              "      cursor: pointer;\n",
              "      display: none;\n",
              "      fill: #1967D2;\n",
              "      height: 32px;\n",
              "      padding: 0 0 0 0;\n",
              "      width: 32px;\n",
              "    }\n",
              "\n",
              "    .colab-df-convert:hover {\n",
              "      background-color: #E2EBFA;\n",
              "      box-shadow: 0px 1px 2px rgba(60, 64, 67, 0.3), 0px 1px 3px 1px rgba(60, 64, 67, 0.15);\n",
              "      fill: #174EA6;\n",
              "    }\n",
              "\n",
              "    [theme=dark] .colab-df-convert {\n",
              "      background-color: #3B4455;\n",
              "      fill: #D2E3FC;\n",
              "    }\n",
              "\n",
              "    [theme=dark] .colab-df-convert:hover {\n",
              "      background-color: #434B5C;\n",
              "      box-shadow: 0px 1px 3px 1px rgba(0, 0, 0, 0.15);\n",
              "      filter: drop-shadow(0px 1px 2px rgba(0, 0, 0, 0.3));\n",
              "      fill: #FFFFFF;\n",
              "    }\n",
              "  </style>\n",
              "\n",
              "      <script>\n",
              "        const buttonEl =\n",
              "          document.querySelector('#df-651b8bf0-d52e-4b10-9674-2ad988851aa2 button.colab-df-convert');\n",
              "        buttonEl.style.display =\n",
              "          google.colab.kernel.accessAllowed ? 'block' : 'none';\n",
              "\n",
              "        async function convertToInteractive(key) {\n",
              "          const element = document.querySelector('#df-651b8bf0-d52e-4b10-9674-2ad988851aa2');\n",
              "          const dataTable =\n",
              "            await google.colab.kernel.invokeFunction('convertToInteractive',\n",
              "                                                     [key], {});\n",
              "          if (!dataTable) return;\n",
              "\n",
              "          const docLinkHtml = 'Like what you see? Visit the ' +\n",
              "            '<a target=\"_blank\" href=https://colab.research.google.com/notebooks/data_table.ipynb>data table notebook</a>'\n",
              "            + ' to learn more about interactive tables.';\n",
              "          element.innerHTML = '';\n",
              "          dataTable['output_type'] = 'display_data';\n",
              "          await google.colab.output.renderOutput(dataTable, element);\n",
              "          const docLink = document.createElement('div');\n",
              "          docLink.innerHTML = docLinkHtml;\n",
              "          element.appendChild(docLink);\n",
              "        }\n",
              "      </script>\n",
              "    </div>\n",
              "  </div>\n",
              "  "
            ]
          },
          "metadata": {},
          "execution_count": 11
        }
      ]
    },
    {
      "cell_type": "code",
      "source": [
        "tweets_df2.to_csv(\"#PunjabElection2022.csv\")"
      ],
      "metadata": {
        "id": "4Pr-xyVJGdw-"
      },
      "execution_count": null,
      "outputs": []
    },
    {
      "cell_type": "code",
      "source": [
        "tweets_df2[\"Text\"][3]"
      ],
      "metadata": {
        "colab": {
          "base_uri": "https://localhost:8080/",
          "height": 53
        },
        "id": "BQCrrKQJG6Wx",
        "outputId": "8fbc535e-2bf2-49f9-a549-8fd9a5bb40aa"
      },
      "execution_count": null,
      "outputs": [
        {
          "output_type": "execute_result",
          "data": {
            "text/plain": [
              "'Today bjp is losing election in 5 states.\\n#GoaElections2022\\n#ManipurElections2022\\n#UttarakhandElections2022\\n#PunjabElections2022 \\n#UttarakhandElections2022 \\n#ElectionResults'"
            ],
            "application/vnd.google.colaboratory.intrinsic+json": {
              "type": "string"
            }
          },
          "metadata": {},
          "execution_count": 15
        }
      ]
    },
    {
      "cell_type": "code",
      "source": [
        "tweets_df2.info()"
      ],
      "metadata": {
        "colab": {
          "base_uri": "https://localhost:8080/"
        },
        "id": "EVzSv-igH--0",
        "outputId": "5701d3fb-e16f-4496-df9a-7748a363b177"
      },
      "execution_count": null,
      "outputs": [
        {
          "output_type": "stream",
          "name": "stdout",
          "text": [
            "<class 'pandas.core.frame.DataFrame'>\n",
            "RangeIndex: 49434 entries, 0 to 49433\n",
            "Data columns (total 4 columns):\n",
            " #   Column    Non-Null Count  Dtype              \n",
            "---  ------    --------------  -----              \n",
            " 0   Datetime  49434 non-null  datetime64[ns, UTC]\n",
            " 1   Tweet Id  49434 non-null  int64              \n",
            " 2   Text      49434 non-null  object             \n",
            " 3   Username  49434 non-null  object             \n",
            "dtypes: datetime64[ns, UTC](1), int64(1), object(2)\n",
            "memory usage: 1.5+ MB\n"
          ]
        }
      ]
    },
    {
      "cell_type": "code",
      "source": [
        ""
      ],
      "metadata": {
        "id": "W2kM7RDcIgsY"
      },
      "execution_count": null,
      "outputs": []
    }
  ]
}