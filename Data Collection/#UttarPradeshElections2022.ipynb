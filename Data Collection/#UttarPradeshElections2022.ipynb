{
  "nbformat": 4,
  "nbformat_minor": 0,
  "metadata": {
    "colab": {
      "name": "#UP2022.ipynb",
      "provenance": [],
      "authorship_tag": "ABX9TyPEemWgQeg8vT+3EtsyHr/I",
      "include_colab_link": true
    },
    "kernelspec": {
      "name": "python3",
      "display_name": "Python 3"
    },
    "language_info": {
      "name": "python"
    },
    "accelerator": "GPU"
  },
  "cells": [
    {
      "cell_type": "markdown",
      "metadata": {
        "id": "view-in-github",
        "colab_type": "text"
      },
      "source": [
        "<a href=\"https://colab.research.google.com/github/Arinjay11000/Political-Opinion-Mining-From-Twitter-Data/blob/main/Data%20Collection/%23UttarPradeshElections2022.ipynb\" target=\"_parent\"><img src=\"https://colab.research.google.com/assets/colab-badge.svg\" alt=\"Open In Colab\"/></a>"
      ]
    },
    {
      "cell_type": "code",
      "execution_count": null,
      "metadata": {
        "id": "txsdsf1LBglA"
      },
      "outputs": [],
      "source": [
        "!pip install -q snscrape==0.3.4"
      ]
    },
    {
      "cell_type": "code",
      "source": [
        "import os\n",
        "import pandas as pd\n",
        "from datetime import date"
      ],
      "metadata": {
        "id": "Xd8GasQRCe7-"
      },
      "execution_count": null,
      "outputs": []
    },
    {
      "cell_type": "code",
      "source": [
        "import snscrape.modules.twitter as sntwitter\n",
        "import pandas\n",
        "\n",
        "# Creating list to append tweet data to\n",
        "tweets_list2 = []\n",
        "\n",
        "# Using TwitterSearchScraper to scrape data and append tweets to list\n",
        "for i,tweet in enumerate(sntwitter.TwitterSearchScraper('#UttarPradeshElections2022 since:2021-11-01 until:2022-03-10').get_items()):\n",
        "    tweets_list2.append([tweet.date, tweet.id, tweet.content,tweet.username])\n",
        "    \n",
        "# Creating a dataframe from the tweets list above\n",
        "tweets_df2 = pd.DataFrame(tweets_list2, columns=['Datetime', 'Tweet Id', 'Text', 'Username'])"
      ],
      "metadata": {
        "id": "6ZXfyV8sCk5F"
      },
      "execution_count": null,
      "outputs": []
    },
    {
      "cell_type": "code",
      "source": [
        "tweets_df2.info()"
      ],
      "metadata": {
        "colab": {
          "base_uri": "https://localhost:8080/"
        },
        "id": "eVZaq2gNCufE",
        "outputId": "c77ad493-2f4c-486c-8fde-1de775fef263"
      },
      "execution_count": null,
      "outputs": [
        {
          "output_type": "stream",
          "name": "stdout",
          "text": [
            "<class 'pandas.core.frame.DataFrame'>\n",
            "RangeIndex: 65016 entries, 0 to 65015\n",
            "Data columns (total 4 columns):\n",
            " #   Column    Non-Null Count  Dtype              \n",
            "---  ------    --------------  -----              \n",
            " 0   Datetime  65016 non-null  datetime64[ns, UTC]\n",
            " 1   Tweet Id  65016 non-null  int64              \n",
            " 2   Text      65016 non-null  object             \n",
            " 3   Username  65016 non-null  object             \n",
            "dtypes: datetime64[ns, UTC](1), int64(1), object(2)\n",
            "memory usage: 2.0+ MB\n"
          ]
        }
      ]
    },
    {
      "cell_type": "code",
      "source": [
        "tweets_df2.head()"
      ],
      "metadata": {
        "colab": {
          "base_uri": "https://localhost:8080/",
          "height": 206
        },
        "id": "tClOMxg3LtTF",
        "outputId": "e6f8bdb5-6c40-444d-8bae-0ee7ebcd3e4b"
      },
      "execution_count": null,
      "outputs": [
        {
          "output_type": "execute_result",
          "data": {
            "text/plain": [
              "                   Datetime             Tweet Id  \\\n",
              "0 2022-03-09 23:56:59+00:00  1501708658211581956   \n",
              "1 2022-03-09 23:41:40+00:00  1501704805575987204   \n",
              "2 2022-03-09 22:27:10+00:00  1501686054440824834   \n",
              "3 2022-03-09 21:37:05+00:00  1501673451534225411   \n",
              "4 2022-03-09 20:57:10+00:00  1501663408633962496   \n",
              "\n",
              "                                                Text         Username  \n",
              "0  @pankajjha_ इतनी सुबह सुबह ट्वीट, राम राम जी क...  jayramdarbhanga  \n",
              "1  https://t.co/aW3vyOsXjE - ye तो मरे हुए इंसान ...  vikram140gulati  \n",
              "2  फागुन माह में कमल का फूल नही खिलता है\\n\\n#Utta...  KhAnEmR68467819  \n",
              "3  Important update 🚨 \\nईवीएम खुलते ही सबसे पहले ...  IamWasimQureshi  \n",
              "4  एक बात तो तय है, आज किसी ना किसी की सरकार जरुर...      Yoyoabhi121  "
            ],
            "text/html": [
              "\n",
              "  <div id=\"df-793decac-58b3-49a0-a691-5700592899f5\">\n",
              "    <div class=\"colab-df-container\">\n",
              "      <div>\n",
              "<style scoped>\n",
              "    .dataframe tbody tr th:only-of-type {\n",
              "        vertical-align: middle;\n",
              "    }\n",
              "\n",
              "    .dataframe tbody tr th {\n",
              "        vertical-align: top;\n",
              "    }\n",
              "\n",
              "    .dataframe thead th {\n",
              "        text-align: right;\n",
              "    }\n",
              "</style>\n",
              "<table border=\"1\" class=\"dataframe\">\n",
              "  <thead>\n",
              "    <tr style=\"text-align: right;\">\n",
              "      <th></th>\n",
              "      <th>Datetime</th>\n",
              "      <th>Tweet Id</th>\n",
              "      <th>Text</th>\n",
              "      <th>Username</th>\n",
              "    </tr>\n",
              "  </thead>\n",
              "  <tbody>\n",
              "    <tr>\n",
              "      <th>0</th>\n",
              "      <td>2022-03-09 23:56:59+00:00</td>\n",
              "      <td>1501708658211581956</td>\n",
              "      <td>@pankajjha_ इतनी सुबह सुबह ट्वीट, राम राम जी क...</td>\n",
              "      <td>jayramdarbhanga</td>\n",
              "    </tr>\n",
              "    <tr>\n",
              "      <th>1</th>\n",
              "      <td>2022-03-09 23:41:40+00:00</td>\n",
              "      <td>1501704805575987204</td>\n",
              "      <td>https://t.co/aW3vyOsXjE - ye तो मरे हुए इंसान ...</td>\n",
              "      <td>vikram140gulati</td>\n",
              "    </tr>\n",
              "    <tr>\n",
              "      <th>2</th>\n",
              "      <td>2022-03-09 22:27:10+00:00</td>\n",
              "      <td>1501686054440824834</td>\n",
              "      <td>फागुन माह में कमल का फूल नही खिलता है\\n\\n#Utta...</td>\n",
              "      <td>KhAnEmR68467819</td>\n",
              "    </tr>\n",
              "    <tr>\n",
              "      <th>3</th>\n",
              "      <td>2022-03-09 21:37:05+00:00</td>\n",
              "      <td>1501673451534225411</td>\n",
              "      <td>Important update 🚨 \\nईवीएम खुलते ही सबसे पहले ...</td>\n",
              "      <td>IamWasimQureshi</td>\n",
              "    </tr>\n",
              "    <tr>\n",
              "      <th>4</th>\n",
              "      <td>2022-03-09 20:57:10+00:00</td>\n",
              "      <td>1501663408633962496</td>\n",
              "      <td>एक बात तो तय है, आज किसी ना किसी की सरकार जरुर...</td>\n",
              "      <td>Yoyoabhi121</td>\n",
              "    </tr>\n",
              "  </tbody>\n",
              "</table>\n",
              "</div>\n",
              "      <button class=\"colab-df-convert\" onclick=\"convertToInteractive('df-793decac-58b3-49a0-a691-5700592899f5')\"\n",
              "              title=\"Convert this dataframe to an interactive table.\"\n",
              "              style=\"display:none;\">\n",
              "        \n",
              "  <svg xmlns=\"http://www.w3.org/2000/svg\" height=\"24px\"viewBox=\"0 0 24 24\"\n",
              "       width=\"24px\">\n",
              "    <path d=\"M0 0h24v24H0V0z\" fill=\"none\"/>\n",
              "    <path d=\"M18.56 5.44l.94 2.06.94-2.06 2.06-.94-2.06-.94-.94-2.06-.94 2.06-2.06.94zm-11 1L8.5 8.5l.94-2.06 2.06-.94-2.06-.94L8.5 2.5l-.94 2.06-2.06.94zm10 10l.94 2.06.94-2.06 2.06-.94-2.06-.94-.94-2.06-.94 2.06-2.06.94z\"/><path d=\"M17.41 7.96l-1.37-1.37c-.4-.4-.92-.59-1.43-.59-.52 0-1.04.2-1.43.59L10.3 9.45l-7.72 7.72c-.78.78-.78 2.05 0 2.83L4 21.41c.39.39.9.59 1.41.59.51 0 1.02-.2 1.41-.59l7.78-7.78 2.81-2.81c.8-.78.8-2.07 0-2.86zM5.41 20L4 18.59l7.72-7.72 1.47 1.35L5.41 20z\"/>\n",
              "  </svg>\n",
              "      </button>\n",
              "      \n",
              "  <style>\n",
              "    .colab-df-container {\n",
              "      display:flex;\n",
              "      flex-wrap:wrap;\n",
              "      gap: 12px;\n",
              "    }\n",
              "\n",
              "    .colab-df-convert {\n",
              "      background-color: #E8F0FE;\n",
              "      border: none;\n",
              "      border-radius: 50%;\n",
              "      cursor: pointer;\n",
              "      display: none;\n",
              "      fill: #1967D2;\n",
              "      height: 32px;\n",
              "      padding: 0 0 0 0;\n",
              "      width: 32px;\n",
              "    }\n",
              "\n",
              "    .colab-df-convert:hover {\n",
              "      background-color: #E2EBFA;\n",
              "      box-shadow: 0px 1px 2px rgba(60, 64, 67, 0.3), 0px 1px 3px 1px rgba(60, 64, 67, 0.15);\n",
              "      fill: #174EA6;\n",
              "    }\n",
              "\n",
              "    [theme=dark] .colab-df-convert {\n",
              "      background-color: #3B4455;\n",
              "      fill: #D2E3FC;\n",
              "    }\n",
              "\n",
              "    [theme=dark] .colab-df-convert:hover {\n",
              "      background-color: #434B5C;\n",
              "      box-shadow: 0px 1px 3px 1px rgba(0, 0, 0, 0.15);\n",
              "      filter: drop-shadow(0px 1px 2px rgba(0, 0, 0, 0.3));\n",
              "      fill: #FFFFFF;\n",
              "    }\n",
              "  </style>\n",
              "\n",
              "      <script>\n",
              "        const buttonEl =\n",
              "          document.querySelector('#df-793decac-58b3-49a0-a691-5700592899f5 button.colab-df-convert');\n",
              "        buttonEl.style.display =\n",
              "          google.colab.kernel.accessAllowed ? 'block' : 'none';\n",
              "\n",
              "        async function convertToInteractive(key) {\n",
              "          const element = document.querySelector('#df-793decac-58b3-49a0-a691-5700592899f5');\n",
              "          const dataTable =\n",
              "            await google.colab.kernel.invokeFunction('convertToInteractive',\n",
              "                                                     [key], {});\n",
              "          if (!dataTable) return;\n",
              "\n",
              "          const docLinkHtml = 'Like what you see? Visit the ' +\n",
              "            '<a target=\"_blank\" href=https://colab.research.google.com/notebooks/data_table.ipynb>data table notebook</a>'\n",
              "            + ' to learn more about interactive tables.';\n",
              "          element.innerHTML = '';\n",
              "          dataTable['output_type'] = 'display_data';\n",
              "          await google.colab.output.renderOutput(dataTable, element);\n",
              "          const docLink = document.createElement('div');\n",
              "          docLink.innerHTML = docLinkHtml;\n",
              "          element.appendChild(docLink);\n",
              "        }\n",
              "      </script>\n",
              "    </div>\n",
              "  </div>\n",
              "  "
            ]
          },
          "metadata": {},
          "execution_count": 5
        }
      ]
    },
    {
      "cell_type": "code",
      "source": [
        "tweets_df2.to_csv(\"#UP2022.csv\")"
      ],
      "metadata": {
        "id": "xjUBbNe2LxM4"
      },
      "execution_count": null,
      "outputs": []
    },
    {
      "cell_type": "code",
      "source": [
        ""
      ],
      "metadata": {
        "id": "-PGXtv7kMmGO"
      },
      "execution_count": null,
      "outputs": []
    }
  ]
}